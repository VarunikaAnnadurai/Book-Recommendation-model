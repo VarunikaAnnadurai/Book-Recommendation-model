{
 "cells": [
  {
   "cell_type": "code",
   "execution_count": 46,
   "id": "e9e87ba0",
   "metadata": {},
   "outputs": [],
   "source": [
    "import pandas as pd\n",
    "import numpy as np"
   ]
  },
  {
   "cell_type": "code",
   "execution_count": 47,
   "id": "4d7999ae",
   "metadata": {},
   "outputs": [
    {
     "data": {
      "text/html": [
       "<div>\n",
       "<style scoped>\n",
       "    .dataframe tbody tr th:only-of-type {\n",
       "        vertical-align: middle;\n",
       "    }\n",
       "\n",
       "    .dataframe tbody tr th {\n",
       "        vertical-align: top;\n",
       "    }\n",
       "\n",
       "    .dataframe thead th {\n",
       "        text-align: right;\n",
       "    }\n",
       "</style>\n",
       "<table border=\"1\" class=\"dataframe\">\n",
       "  <thead>\n",
       "    <tr style=\"text-align: right;\">\n",
       "      <th></th>\n",
       "      <th>web-scraper-order</th>\n",
       "      <th>web-scraper-start-url</th>\n",
       "      <th>Links</th>\n",
       "      <th>Links-href</th>\n",
       "      <th>Pages</th>\n",
       "      <th>Pages-href</th>\n",
       "      <th>Book Name</th>\n",
       "      <th>Author</th>\n",
       "      <th>Price</th>\n",
       "      <th>Publisher</th>\n",
       "      <th>Number of Pages</th>\n",
       "      <th>Sales Rank</th>\n",
       "      <th>Genre</th>\n",
       "    </tr>\n",
       "  </thead>\n",
       "  <tbody>\n",
       "    <tr>\n",
       "      <th>0</th>\n",
       "      <td>1695795241-50</td>\n",
       "      <td>https://www.barnesandnoble.com/b/everyones-tal...</td>\n",
       "      <td>NaN</td>\n",
       "      <td>https://www.barnesandnoble.com/w/the-ferryman-...</td>\n",
       "      <td>NaN</td>\n",
       "      <td>NaN</td>\n",
       "      <td>The Ferryman (B&amp;N Exclusive…</td>\n",
       "      <td>Justin Cronin</td>\n",
       "      <td>$23.99</td>\n",
       "      <td>Random House Publishing Group</td>\n",
       "      <td>560.0</td>\n",
       "      <td>3,025</td>\n",
       "      <td>Thriller</td>\n",
       "    </tr>\n",
       "    <tr>\n",
       "      <th>1</th>\n",
       "      <td>1695795245-5</td>\n",
       "      <td>https://www.barnesandnoble.com/b/everyones-tal...</td>\n",
       "      <td>NaN</td>\n",
       "      <td>https://www.barnesandnoble.com/w/here-in-the-d...</td>\n",
       "      <td>Page\\n6</td>\n",
       "      <td>https://www.barnesandnoble.com/b/everyones-tal...</td>\n",
       "      <td>Here in the Dark: A Novel</td>\n",
       "      <td>Alexis Soloski</td>\n",
       "      <td>$27.99</td>\n",
       "      <td>Flatiron Books</td>\n",
       "      <td>256.0</td>\n",
       "      <td>NaN</td>\n",
       "      <td>Thriller</td>\n",
       "    </tr>\n",
       "    <tr>\n",
       "      <th>2</th>\n",
       "      <td>1695795247-43</td>\n",
       "      <td>https://www.barnesandnoble.com/b/everyones-tal...</td>\n",
       "      <td>NaN</td>\n",
       "      <td>https://www.barnesandnoble.com/w/the-paris-apa...</td>\n",
       "      <td>Page\\n2</td>\n",
       "      <td>https://www.barnesandnoble.com/b/everyones-tal...</td>\n",
       "      <td>The Paris Apartment</td>\n",
       "      <td>Lucy Foley</td>\n",
       "      <td>$15.99</td>\n",
       "      <td>HarperCollins Publishers</td>\n",
       "      <td>384.0</td>\n",
       "      <td>4,787</td>\n",
       "      <td>Thriller</td>\n",
       "    </tr>\n",
       "    <tr>\n",
       "      <th>3</th>\n",
       "      <td>1695795251-51</td>\n",
       "      <td>https://www.barnesandnoble.com/b/everyones-tal...</td>\n",
       "      <td>NaN</td>\n",
       "      <td>https://www.barnesandnoble.com/w/countdown-jam...</td>\n",
       "      <td>NaN</td>\n",
       "      <td>NaN</td>\n",
       "      <td>Countdown</td>\n",
       "      <td>James Patterson</td>\n",
       "      <td>$20.30</td>\n",
       "      <td>Little, Brown and Company</td>\n",
       "      <td>464.0</td>\n",
       "      <td>2,836</td>\n",
       "      <td>Thriller</td>\n",
       "    </tr>\n",
       "    <tr>\n",
       "      <th>4</th>\n",
       "      <td>1695795256-6</td>\n",
       "      <td>https://www.barnesandnoble.com/b/everyones-tal...</td>\n",
       "      <td>NaN</td>\n",
       "      <td>https://www.barnesandnoble.com/w/wait-for-dark...</td>\n",
       "      <td>Page\\n6</td>\n",
       "      <td>https://www.barnesandnoble.com/b/everyones-tal...</td>\n",
       "      <td>Wait for Dark</td>\n",
       "      <td>NaN</td>\n",
       "      <td>$17.99</td>\n",
       "      <td>Dreamscape Media</td>\n",
       "      <td>NaN</td>\n",
       "      <td>1,075,069</td>\n",
       "      <td>Thriller</td>\n",
       "    </tr>\n",
       "    <tr>\n",
       "      <th>...</th>\n",
       "      <td>...</td>\n",
       "      <td>...</td>\n",
       "      <td>...</td>\n",
       "      <td>...</td>\n",
       "      <td>...</td>\n",
       "      <td>...</td>\n",
       "      <td>...</td>\n",
       "      <td>...</td>\n",
       "      <td>...</td>\n",
       "      <td>...</td>\n",
       "      <td>...</td>\n",
       "      <td>...</td>\n",
       "      <td>...</td>\n",
       "    </tr>\n",
       "    <tr>\n",
       "      <th>684</th>\n",
       "      <td>1695709075-73</td>\n",
       "      <td>https://www.barnesandnoble.com/b/books/literar...</td>\n",
       "      <td>Galatea</td>\n",
       "      <td>https://www.barnesandnoble.com/w/galatea-frede...</td>\n",
       "      <td>NaN</td>\n",
       "      <td>NaN</td>\n",
       "      <td>Galatea</td>\n",
       "      <td>Madeline Miller</td>\n",
       "      <td>$12.00</td>\n",
       "      <td>HarperCollins Publishers</td>\n",
       "      <td>64.0</td>\n",
       "      <td>2,577</td>\n",
       "      <td>Myths &amp; Legends</td>\n",
       "    </tr>\n",
       "    <tr>\n",
       "      <th>685</th>\n",
       "      <td>1695709083-74</td>\n",
       "      <td>https://www.barnesandnoble.com/b/books/literar...</td>\n",
       "      <td>The Shadow of Perseus: A Novel</td>\n",
       "      <td>https://www.barnesandnoble.com/w/the-shadow-of...</td>\n",
       "      <td>NaN</td>\n",
       "      <td>NaN</td>\n",
       "      <td>The Shadow of Perseus: A Novel</td>\n",
       "      <td>Claire Heywood</td>\n",
       "      <td>$23.99</td>\n",
       "      <td>Penguin Publishing Group</td>\n",
       "      <td>304.0</td>\n",
       "      <td>2,401</td>\n",
       "      <td>Myths &amp; Legends</td>\n",
       "    </tr>\n",
       "    <tr>\n",
       "      <th>686</th>\n",
       "      <td>1695709091-75</td>\n",
       "      <td>https://www.barnesandnoble.com/b/books/literar...</td>\n",
       "      <td>Circe</td>\n",
       "      <td>https://www.barnesandnoble.com/w/circe-frederi...</td>\n",
       "      <td>NaN</td>\n",
       "      <td>NaN</td>\n",
       "      <td>Circe</td>\n",
       "      <td>Madeline Miller</td>\n",
       "      <td>$15.99</td>\n",
       "      <td>Little, Brown and Company</td>\n",
       "      <td>416.0</td>\n",
       "      <td>1,878</td>\n",
       "      <td>Myths &amp; Legends</td>\n",
       "    </tr>\n",
       "    <tr>\n",
       "      <th>687</th>\n",
       "      <td>1695709099-76</td>\n",
       "      <td>https://www.barnesandnoble.com/b/books/literar...</td>\n",
       "      <td>The Song of Achilles (B&amp;N…</td>\n",
       "      <td>https://www.barnesandnoble.com/w/the-song-of-a...</td>\n",
       "      <td>NaN</td>\n",
       "      <td>NaN</td>\n",
       "      <td>The Song of Achilles (B&amp;N Exclusive Edition)</td>\n",
       "      <td>Madeline Miller</td>\n",
       "      <td>$21.99</td>\n",
       "      <td>HarperCollins Publishers</td>\n",
       "      <td>384.0</td>\n",
       "      <td>1,873</td>\n",
       "      <td>Myths &amp; Legends</td>\n",
       "    </tr>\n",
       "    <tr>\n",
       "      <th>688</th>\n",
       "      <td>1695709107-77</td>\n",
       "      <td>https://www.barnesandnoble.com/b/books/literar...</td>\n",
       "      <td>The Song of Achilles</td>\n",
       "      <td>https://www.barnesandnoble.com/w/the-song-of-a...</td>\n",
       "      <td>NaN</td>\n",
       "      <td>NaN</td>\n",
       "      <td>The Song of Achilles</td>\n",
       "      <td>Madeline Miller</td>\n",
       "      <td>$14.99</td>\n",
       "      <td>HarperCollins Publishers</td>\n",
       "      <td>416.0</td>\n",
       "      <td>1,183</td>\n",
       "      <td>Myths &amp; Legends</td>\n",
       "    </tr>\n",
       "  </tbody>\n",
       "</table>\n",
       "<p>689 rows × 13 columns</p>\n",
       "</div>"
      ],
      "text/plain": [
       "    web-scraper-order                              web-scraper-start-url  \\\n",
       "0       1695795241-50  https://www.barnesandnoble.com/b/everyones-tal...   \n",
       "1        1695795245-5  https://www.barnesandnoble.com/b/everyones-tal...   \n",
       "2       1695795247-43  https://www.barnesandnoble.com/b/everyones-tal...   \n",
       "3       1695795251-51  https://www.barnesandnoble.com/b/everyones-tal...   \n",
       "4        1695795256-6  https://www.barnesandnoble.com/b/everyones-tal...   \n",
       "..                ...                                                ...   \n",
       "684     1695709075-73  https://www.barnesandnoble.com/b/books/literar...   \n",
       "685     1695709083-74  https://www.barnesandnoble.com/b/books/literar...   \n",
       "686     1695709091-75  https://www.barnesandnoble.com/b/books/literar...   \n",
       "687     1695709099-76  https://www.barnesandnoble.com/b/books/literar...   \n",
       "688     1695709107-77  https://www.barnesandnoble.com/b/books/literar...   \n",
       "\n",
       "                              Links  \\\n",
       "0                               NaN   \n",
       "1                               NaN   \n",
       "2                               NaN   \n",
       "3                               NaN   \n",
       "4                               NaN   \n",
       "..                              ...   \n",
       "684                         Galatea   \n",
       "685  The Shadow of Perseus: A Novel   \n",
       "686                           Circe   \n",
       "687      The Song of Achilles (B&N…   \n",
       "688            The Song of Achilles   \n",
       "\n",
       "                                            Links-href    Pages  \\\n",
       "0    https://www.barnesandnoble.com/w/the-ferryman-...      NaN   \n",
       "1    https://www.barnesandnoble.com/w/here-in-the-d...  Page\\n6   \n",
       "2    https://www.barnesandnoble.com/w/the-paris-apa...  Page\\n2   \n",
       "3    https://www.barnesandnoble.com/w/countdown-jam...      NaN   \n",
       "4    https://www.barnesandnoble.com/w/wait-for-dark...  Page\\n6   \n",
       "..                                                 ...      ...   \n",
       "684  https://www.barnesandnoble.com/w/galatea-frede...      NaN   \n",
       "685  https://www.barnesandnoble.com/w/the-shadow-of...      NaN   \n",
       "686  https://www.barnesandnoble.com/w/circe-frederi...      NaN   \n",
       "687  https://www.barnesandnoble.com/w/the-song-of-a...      NaN   \n",
       "688  https://www.barnesandnoble.com/w/the-song-of-a...      NaN   \n",
       "\n",
       "                                            Pages-href  \\\n",
       "0                                                  NaN   \n",
       "1    https://www.barnesandnoble.com/b/everyones-tal...   \n",
       "2    https://www.barnesandnoble.com/b/everyones-tal...   \n",
       "3                                                  NaN   \n",
       "4    https://www.barnesandnoble.com/b/everyones-tal...   \n",
       "..                                                 ...   \n",
       "684                                                NaN   \n",
       "685                                                NaN   \n",
       "686                                                NaN   \n",
       "687                                                NaN   \n",
       "688                                                NaN   \n",
       "\n",
       "                                       Book Name            Author   Price  \\\n",
       "0                    The Ferryman (B&N Exclusive…    Justin Cronin  $23.99   \n",
       "1                       Here in the Dark: A Novel   Alexis Soloski  $27.99   \n",
       "2                             The Paris Apartment       Lucy Foley  $15.99   \n",
       "3                                       Countdown  James Patterson  $20.30   \n",
       "4                                   Wait for Dark              NaN  $17.99   \n",
       "..                                            ...              ...     ...   \n",
       "684                                       Galatea  Madeline Miller  $12.00   \n",
       "685                The Shadow of Perseus: A Novel   Claire Heywood  $23.99   \n",
       "686                                         Circe  Madeline Miller  $15.99   \n",
       "687  The Song of Achilles (B&N Exclusive Edition)  Madeline Miller  $21.99   \n",
       "688                          The Song of Achilles  Madeline Miller  $14.99   \n",
       "\n",
       "                         Publisher  Number of Pages Sales Rank  \\\n",
       "0    Random House Publishing Group            560.0      3,025   \n",
       "1                   Flatiron Books            256.0        NaN   \n",
       "2         HarperCollins Publishers            384.0      4,787   \n",
       "3        Little, Brown and Company            464.0      2,836   \n",
       "4                 Dreamscape Media              NaN  1,075,069   \n",
       "..                             ...              ...        ...   \n",
       "684       HarperCollins Publishers             64.0      2,577   \n",
       "685       Penguin Publishing Group            304.0      2,401   \n",
       "686      Little, Brown and Company            416.0      1,878   \n",
       "687       HarperCollins Publishers            384.0      1,873   \n",
       "688       HarperCollins Publishers            416.0      1,183   \n",
       "\n",
       "               Genre  \n",
       "0           Thriller  \n",
       "1           Thriller  \n",
       "2           Thriller  \n",
       "3           Thriller  \n",
       "4           Thriller  \n",
       "..               ...  \n",
       "684  Myths & Legends  \n",
       "685  Myths & Legends  \n",
       "686  Myths & Legends  \n",
       "687  Myths & Legends  \n",
       "688  Myths & Legends  \n",
       "\n",
       "[689 rows x 13 columns]"
      ]
     },
     "execution_count": 47,
     "metadata": {},
     "output_type": "execute_result"
    }
   ],
   "source": [
    "df=pd.read_excel(r\"C:\\Users\\varun\\Documents\\Working_datset.xlsx\")\n",
    "df"
   ]
  },
  {
   "cell_type": "markdown",
   "id": "81f7704e",
   "metadata": {},
   "source": [
    "### Dropping necessary columns"
   ]
  },
  {
   "cell_type": "code",
   "execution_count": 48,
   "id": "5b89852c",
   "metadata": {},
   "outputs": [],
   "source": [
    "columns_to_drop=['web-scraper-order','web-scraper-start-url','Links','Links-href','Pages','Pages-href']\n",
    "df.drop(columns=columns_to_drop,inplace=True)"
   ]
  },
  {
   "cell_type": "code",
   "execution_count": 49,
   "id": "ce7c0a27",
   "metadata": {},
   "outputs": [
    {
     "data": {
      "text/html": [
       "<div>\n",
       "<style scoped>\n",
       "    .dataframe tbody tr th:only-of-type {\n",
       "        vertical-align: middle;\n",
       "    }\n",
       "\n",
       "    .dataframe tbody tr th {\n",
       "        vertical-align: top;\n",
       "    }\n",
       "\n",
       "    .dataframe thead th {\n",
       "        text-align: right;\n",
       "    }\n",
       "</style>\n",
       "<table border=\"1\" class=\"dataframe\">\n",
       "  <thead>\n",
       "    <tr style=\"text-align: right;\">\n",
       "      <th></th>\n",
       "      <th>Book Name</th>\n",
       "      <th>Author</th>\n",
       "      <th>Price</th>\n",
       "      <th>Publisher</th>\n",
       "      <th>Number of Pages</th>\n",
       "      <th>Sales Rank</th>\n",
       "      <th>Genre</th>\n",
       "    </tr>\n",
       "  </thead>\n",
       "  <tbody>\n",
       "    <tr>\n",
       "      <th>0</th>\n",
       "      <td>The Ferryman (B&amp;N Exclusive…</td>\n",
       "      <td>Justin Cronin</td>\n",
       "      <td>$23.99</td>\n",
       "      <td>Random House Publishing Group</td>\n",
       "      <td>560.0</td>\n",
       "      <td>3,025</td>\n",
       "      <td>Thriller</td>\n",
       "    </tr>\n",
       "    <tr>\n",
       "      <th>1</th>\n",
       "      <td>Here in the Dark: A Novel</td>\n",
       "      <td>Alexis Soloski</td>\n",
       "      <td>$27.99</td>\n",
       "      <td>Flatiron Books</td>\n",
       "      <td>256.0</td>\n",
       "      <td>NaN</td>\n",
       "      <td>Thriller</td>\n",
       "    </tr>\n",
       "    <tr>\n",
       "      <th>2</th>\n",
       "      <td>The Paris Apartment</td>\n",
       "      <td>Lucy Foley</td>\n",
       "      <td>$15.99</td>\n",
       "      <td>HarperCollins Publishers</td>\n",
       "      <td>384.0</td>\n",
       "      <td>4,787</td>\n",
       "      <td>Thriller</td>\n",
       "    </tr>\n",
       "    <tr>\n",
       "      <th>3</th>\n",
       "      <td>Countdown</td>\n",
       "      <td>James Patterson</td>\n",
       "      <td>$20.30</td>\n",
       "      <td>Little, Brown and Company</td>\n",
       "      <td>464.0</td>\n",
       "      <td>2,836</td>\n",
       "      <td>Thriller</td>\n",
       "    </tr>\n",
       "    <tr>\n",
       "      <th>4</th>\n",
       "      <td>Wait for Dark</td>\n",
       "      <td>NaN</td>\n",
       "      <td>$17.99</td>\n",
       "      <td>Dreamscape Media</td>\n",
       "      <td>NaN</td>\n",
       "      <td>1,075,069</td>\n",
       "      <td>Thriller</td>\n",
       "    </tr>\n",
       "    <tr>\n",
       "      <th>...</th>\n",
       "      <td>...</td>\n",
       "      <td>...</td>\n",
       "      <td>...</td>\n",
       "      <td>...</td>\n",
       "      <td>...</td>\n",
       "      <td>...</td>\n",
       "      <td>...</td>\n",
       "    </tr>\n",
       "    <tr>\n",
       "      <th>684</th>\n",
       "      <td>Galatea</td>\n",
       "      <td>Madeline Miller</td>\n",
       "      <td>$12.00</td>\n",
       "      <td>HarperCollins Publishers</td>\n",
       "      <td>64.0</td>\n",
       "      <td>2,577</td>\n",
       "      <td>Myths &amp; Legends</td>\n",
       "    </tr>\n",
       "    <tr>\n",
       "      <th>685</th>\n",
       "      <td>The Shadow of Perseus: A Novel</td>\n",
       "      <td>Claire Heywood</td>\n",
       "      <td>$23.99</td>\n",
       "      <td>Penguin Publishing Group</td>\n",
       "      <td>304.0</td>\n",
       "      <td>2,401</td>\n",
       "      <td>Myths &amp; Legends</td>\n",
       "    </tr>\n",
       "    <tr>\n",
       "      <th>686</th>\n",
       "      <td>Circe</td>\n",
       "      <td>Madeline Miller</td>\n",
       "      <td>$15.99</td>\n",
       "      <td>Little, Brown and Company</td>\n",
       "      <td>416.0</td>\n",
       "      <td>1,878</td>\n",
       "      <td>Myths &amp; Legends</td>\n",
       "    </tr>\n",
       "    <tr>\n",
       "      <th>687</th>\n",
       "      <td>The Song of Achilles (B&amp;N Exclusive Edition)</td>\n",
       "      <td>Madeline Miller</td>\n",
       "      <td>$21.99</td>\n",
       "      <td>HarperCollins Publishers</td>\n",
       "      <td>384.0</td>\n",
       "      <td>1,873</td>\n",
       "      <td>Myths &amp; Legends</td>\n",
       "    </tr>\n",
       "    <tr>\n",
       "      <th>688</th>\n",
       "      <td>The Song of Achilles</td>\n",
       "      <td>Madeline Miller</td>\n",
       "      <td>$14.99</td>\n",
       "      <td>HarperCollins Publishers</td>\n",
       "      <td>416.0</td>\n",
       "      <td>1,183</td>\n",
       "      <td>Myths &amp; Legends</td>\n",
       "    </tr>\n",
       "  </tbody>\n",
       "</table>\n",
       "<p>689 rows × 7 columns</p>\n",
       "</div>"
      ],
      "text/plain": [
       "                                       Book Name            Author   Price  \\\n",
       "0                    The Ferryman (B&N Exclusive…    Justin Cronin  $23.99   \n",
       "1                       Here in the Dark: A Novel   Alexis Soloski  $27.99   \n",
       "2                             The Paris Apartment       Lucy Foley  $15.99   \n",
       "3                                       Countdown  James Patterson  $20.30   \n",
       "4                                   Wait for Dark              NaN  $17.99   \n",
       "..                                            ...              ...     ...   \n",
       "684                                       Galatea  Madeline Miller  $12.00   \n",
       "685                The Shadow of Perseus: A Novel   Claire Heywood  $23.99   \n",
       "686                                         Circe  Madeline Miller  $15.99   \n",
       "687  The Song of Achilles (B&N Exclusive Edition)  Madeline Miller  $21.99   \n",
       "688                          The Song of Achilles  Madeline Miller  $14.99   \n",
       "\n",
       "                         Publisher  Number of Pages Sales Rank  \\\n",
       "0    Random House Publishing Group            560.0      3,025   \n",
       "1                   Flatiron Books            256.0        NaN   \n",
       "2         HarperCollins Publishers            384.0      4,787   \n",
       "3        Little, Brown and Company            464.0      2,836   \n",
       "4                 Dreamscape Media              NaN  1,075,069   \n",
       "..                             ...              ...        ...   \n",
       "684       HarperCollins Publishers             64.0      2,577   \n",
       "685       Penguin Publishing Group            304.0      2,401   \n",
       "686      Little, Brown and Company            416.0      1,878   \n",
       "687       HarperCollins Publishers            384.0      1,873   \n",
       "688       HarperCollins Publishers            416.0      1,183   \n",
       "\n",
       "               Genre  \n",
       "0           Thriller  \n",
       "1           Thriller  \n",
       "2           Thriller  \n",
       "3           Thriller  \n",
       "4           Thriller  \n",
       "..               ...  \n",
       "684  Myths & Legends  \n",
       "685  Myths & Legends  \n",
       "686  Myths & Legends  \n",
       "687  Myths & Legends  \n",
       "688  Myths & Legends  \n",
       "\n",
       "[689 rows x 7 columns]"
      ]
     },
     "execution_count": 49,
     "metadata": {},
     "output_type": "execute_result"
    }
   ],
   "source": [
    "df"
   ]
  },
  {
   "cell_type": "markdown",
   "id": "abda6d58",
   "metadata": {},
   "source": [
    "### Dropping duplicate rows"
   ]
  },
  {
   "cell_type": "code",
   "execution_count": 50,
   "id": "e170a6e6",
   "metadata": {},
   "outputs": [
    {
     "data": {
      "text/html": [
       "<div>\n",
       "<style scoped>\n",
       "    .dataframe tbody tr th:only-of-type {\n",
       "        vertical-align: middle;\n",
       "    }\n",
       "\n",
       "    .dataframe tbody tr th {\n",
       "        vertical-align: top;\n",
       "    }\n",
       "\n",
       "    .dataframe thead th {\n",
       "        text-align: right;\n",
       "    }\n",
       "</style>\n",
       "<table border=\"1\" class=\"dataframe\">\n",
       "  <thead>\n",
       "    <tr style=\"text-align: right;\">\n",
       "      <th></th>\n",
       "      <th>Book Name</th>\n",
       "      <th>Author</th>\n",
       "      <th>Price</th>\n",
       "      <th>Publisher</th>\n",
       "      <th>Number of Pages</th>\n",
       "      <th>Sales Rank</th>\n",
       "      <th>Genre</th>\n",
       "    </tr>\n",
       "  </thead>\n",
       "  <tbody>\n",
       "    <tr>\n",
       "      <th>0</th>\n",
       "      <td>The Ferryman (B&amp;N Exclusive…</td>\n",
       "      <td>Justin Cronin</td>\n",
       "      <td>$23.99</td>\n",
       "      <td>Random House Publishing Group</td>\n",
       "      <td>560.0</td>\n",
       "      <td>3,025</td>\n",
       "      <td>Thriller</td>\n",
       "    </tr>\n",
       "    <tr>\n",
       "      <th>1</th>\n",
       "      <td>Here in the Dark: A Novel</td>\n",
       "      <td>Alexis Soloski</td>\n",
       "      <td>$27.99</td>\n",
       "      <td>Flatiron Books</td>\n",
       "      <td>256.0</td>\n",
       "      <td>NaN</td>\n",
       "      <td>Thriller</td>\n",
       "    </tr>\n",
       "    <tr>\n",
       "      <th>2</th>\n",
       "      <td>The Paris Apartment</td>\n",
       "      <td>Lucy Foley</td>\n",
       "      <td>$15.99</td>\n",
       "      <td>HarperCollins Publishers</td>\n",
       "      <td>384.0</td>\n",
       "      <td>4,787</td>\n",
       "      <td>Thriller</td>\n",
       "    </tr>\n",
       "    <tr>\n",
       "      <th>3</th>\n",
       "      <td>Countdown</td>\n",
       "      <td>James Patterson</td>\n",
       "      <td>$20.30</td>\n",
       "      <td>Little, Brown and Company</td>\n",
       "      <td>464.0</td>\n",
       "      <td>2,836</td>\n",
       "      <td>Thriller</td>\n",
       "    </tr>\n",
       "    <tr>\n",
       "      <th>4</th>\n",
       "      <td>Wait for Dark</td>\n",
       "      <td>NaN</td>\n",
       "      <td>$17.99</td>\n",
       "      <td>Dreamscape Media</td>\n",
       "      <td>NaN</td>\n",
       "      <td>1,075,069</td>\n",
       "      <td>Thriller</td>\n",
       "    </tr>\n",
       "    <tr>\n",
       "      <th>...</th>\n",
       "      <td>...</td>\n",
       "      <td>...</td>\n",
       "      <td>...</td>\n",
       "      <td>...</td>\n",
       "      <td>...</td>\n",
       "      <td>...</td>\n",
       "      <td>...</td>\n",
       "    </tr>\n",
       "    <tr>\n",
       "      <th>659</th>\n",
       "      <td>Galatea</td>\n",
       "      <td>Madeline Miller</td>\n",
       "      <td>$12.00</td>\n",
       "      <td>HarperCollins Publishers</td>\n",
       "      <td>64.0</td>\n",
       "      <td>2,577</td>\n",
       "      <td>Myths &amp; Legends</td>\n",
       "    </tr>\n",
       "    <tr>\n",
       "      <th>661</th>\n",
       "      <td>The Shadow of Perseus: A Novel</td>\n",
       "      <td>Claire Heywood</td>\n",
       "      <td>$23.99</td>\n",
       "      <td>Penguin Publishing Group</td>\n",
       "      <td>304.0</td>\n",
       "      <td>2,401</td>\n",
       "      <td>Myths &amp; Legends</td>\n",
       "    </tr>\n",
       "    <tr>\n",
       "      <th>663</th>\n",
       "      <td>Circe</td>\n",
       "      <td>Madeline Miller</td>\n",
       "      <td>$15.99</td>\n",
       "      <td>Little, Brown and Company</td>\n",
       "      <td>416.0</td>\n",
       "      <td>1,878</td>\n",
       "      <td>Myths &amp; Legends</td>\n",
       "    </tr>\n",
       "    <tr>\n",
       "      <th>665</th>\n",
       "      <td>The Song of Achilles (B&amp;N Exclusive Edition)</td>\n",
       "      <td>Madeline Miller</td>\n",
       "      <td>$21.99</td>\n",
       "      <td>HarperCollins Publishers</td>\n",
       "      <td>384.0</td>\n",
       "      <td>1,873</td>\n",
       "      <td>Myths &amp; Legends</td>\n",
       "    </tr>\n",
       "    <tr>\n",
       "      <th>667</th>\n",
       "      <td>The Song of Achilles</td>\n",
       "      <td>Madeline Miller</td>\n",
       "      <td>$14.99</td>\n",
       "      <td>HarperCollins Publishers</td>\n",
       "      <td>416.0</td>\n",
       "      <td>1,183</td>\n",
       "      <td>Myths &amp; Legends</td>\n",
       "    </tr>\n",
       "  </tbody>\n",
       "</table>\n",
       "<p>426 rows × 7 columns</p>\n",
       "</div>"
      ],
      "text/plain": [
       "                                       Book Name            Author   Price  \\\n",
       "0                    The Ferryman (B&N Exclusive…    Justin Cronin  $23.99   \n",
       "1                       Here in the Dark: A Novel   Alexis Soloski  $27.99   \n",
       "2                             The Paris Apartment       Lucy Foley  $15.99   \n",
       "3                                       Countdown  James Patterson  $20.30   \n",
       "4                                   Wait for Dark              NaN  $17.99   \n",
       "..                                            ...              ...     ...   \n",
       "659                                       Galatea  Madeline Miller  $12.00   \n",
       "661                The Shadow of Perseus: A Novel   Claire Heywood  $23.99   \n",
       "663                                         Circe  Madeline Miller  $15.99   \n",
       "665  The Song of Achilles (B&N Exclusive Edition)  Madeline Miller  $21.99   \n",
       "667                          The Song of Achilles  Madeline Miller  $14.99   \n",
       "\n",
       "                         Publisher  Number of Pages Sales Rank  \\\n",
       "0    Random House Publishing Group            560.0      3,025   \n",
       "1                   Flatiron Books            256.0        NaN   \n",
       "2         HarperCollins Publishers            384.0      4,787   \n",
       "3        Little, Brown and Company            464.0      2,836   \n",
       "4                 Dreamscape Media              NaN  1,075,069   \n",
       "..                             ...              ...        ...   \n",
       "659       HarperCollins Publishers             64.0      2,577   \n",
       "661       Penguin Publishing Group            304.0      2,401   \n",
       "663      Little, Brown and Company            416.0      1,878   \n",
       "665       HarperCollins Publishers            384.0      1,873   \n",
       "667       HarperCollins Publishers            416.0      1,183   \n",
       "\n",
       "               Genre  \n",
       "0           Thriller  \n",
       "1           Thriller  \n",
       "2           Thriller  \n",
       "3           Thriller  \n",
       "4           Thriller  \n",
       "..               ...  \n",
       "659  Myths & Legends  \n",
       "661  Myths & Legends  \n",
       "663  Myths & Legends  \n",
       "665  Myths & Legends  \n",
       "667  Myths & Legends  \n",
       "\n",
       "[426 rows x 7 columns]"
      ]
     },
     "execution_count": 50,
     "metadata": {},
     "output_type": "execute_result"
    }
   ],
   "source": [
    "df.drop_duplicates(inplace=True)\n",
    "df"
   ]
  },
  {
   "cell_type": "markdown",
   "id": "618b7526",
   "metadata": {},
   "source": [
    "### Using lstrip() to remove the dollar sign from the \"Price\" column"
   ]
  },
  {
   "cell_type": "code",
   "execution_count": 51,
   "id": "6c9337a4",
   "metadata": {},
   "outputs": [
    {
     "data": {
      "text/html": [
       "<div>\n",
       "<style scoped>\n",
       "    .dataframe tbody tr th:only-of-type {\n",
       "        vertical-align: middle;\n",
       "    }\n",
       "\n",
       "    .dataframe tbody tr th {\n",
       "        vertical-align: top;\n",
       "    }\n",
       "\n",
       "    .dataframe thead th {\n",
       "        text-align: right;\n",
       "    }\n",
       "</style>\n",
       "<table border=\"1\" class=\"dataframe\">\n",
       "  <thead>\n",
       "    <tr style=\"text-align: right;\">\n",
       "      <th></th>\n",
       "      <th>Book Name</th>\n",
       "      <th>Author</th>\n",
       "      <th>Price</th>\n",
       "      <th>Publisher</th>\n",
       "      <th>Number of Pages</th>\n",
       "      <th>Sales Rank</th>\n",
       "      <th>Genre</th>\n",
       "    </tr>\n",
       "  </thead>\n",
       "  <tbody>\n",
       "    <tr>\n",
       "      <th>0</th>\n",
       "      <td>The Ferryman (B&amp;N Exclusive…</td>\n",
       "      <td>Justin Cronin</td>\n",
       "      <td>23.99</td>\n",
       "      <td>Random House Publishing Group</td>\n",
       "      <td>560.0</td>\n",
       "      <td>3,025</td>\n",
       "      <td>Thriller</td>\n",
       "    </tr>\n",
       "    <tr>\n",
       "      <th>1</th>\n",
       "      <td>Here in the Dark: A Novel</td>\n",
       "      <td>Alexis Soloski</td>\n",
       "      <td>27.99</td>\n",
       "      <td>Flatiron Books</td>\n",
       "      <td>256.0</td>\n",
       "      <td>NaN</td>\n",
       "      <td>Thriller</td>\n",
       "    </tr>\n",
       "    <tr>\n",
       "      <th>2</th>\n",
       "      <td>The Paris Apartment</td>\n",
       "      <td>Lucy Foley</td>\n",
       "      <td>15.99</td>\n",
       "      <td>HarperCollins Publishers</td>\n",
       "      <td>384.0</td>\n",
       "      <td>4,787</td>\n",
       "      <td>Thriller</td>\n",
       "    </tr>\n",
       "    <tr>\n",
       "      <th>3</th>\n",
       "      <td>Countdown</td>\n",
       "      <td>James Patterson</td>\n",
       "      <td>20.30</td>\n",
       "      <td>Little, Brown and Company</td>\n",
       "      <td>464.0</td>\n",
       "      <td>2,836</td>\n",
       "      <td>Thriller</td>\n",
       "    </tr>\n",
       "    <tr>\n",
       "      <th>4</th>\n",
       "      <td>Wait for Dark</td>\n",
       "      <td>NaN</td>\n",
       "      <td>17.99</td>\n",
       "      <td>Dreamscape Media</td>\n",
       "      <td>NaN</td>\n",
       "      <td>1,075,069</td>\n",
       "      <td>Thriller</td>\n",
       "    </tr>\n",
       "    <tr>\n",
       "      <th>...</th>\n",
       "      <td>...</td>\n",
       "      <td>...</td>\n",
       "      <td>...</td>\n",
       "      <td>...</td>\n",
       "      <td>...</td>\n",
       "      <td>...</td>\n",
       "      <td>...</td>\n",
       "    </tr>\n",
       "    <tr>\n",
       "      <th>659</th>\n",
       "      <td>Galatea</td>\n",
       "      <td>Madeline Miller</td>\n",
       "      <td>12.00</td>\n",
       "      <td>HarperCollins Publishers</td>\n",
       "      <td>64.0</td>\n",
       "      <td>2,577</td>\n",
       "      <td>Myths &amp; Legends</td>\n",
       "    </tr>\n",
       "    <tr>\n",
       "      <th>661</th>\n",
       "      <td>The Shadow of Perseus: A Novel</td>\n",
       "      <td>Claire Heywood</td>\n",
       "      <td>23.99</td>\n",
       "      <td>Penguin Publishing Group</td>\n",
       "      <td>304.0</td>\n",
       "      <td>2,401</td>\n",
       "      <td>Myths &amp; Legends</td>\n",
       "    </tr>\n",
       "    <tr>\n",
       "      <th>663</th>\n",
       "      <td>Circe</td>\n",
       "      <td>Madeline Miller</td>\n",
       "      <td>15.99</td>\n",
       "      <td>Little, Brown and Company</td>\n",
       "      <td>416.0</td>\n",
       "      <td>1,878</td>\n",
       "      <td>Myths &amp; Legends</td>\n",
       "    </tr>\n",
       "    <tr>\n",
       "      <th>665</th>\n",
       "      <td>The Song of Achilles (B&amp;N Exclusive Edition)</td>\n",
       "      <td>Madeline Miller</td>\n",
       "      <td>21.99</td>\n",
       "      <td>HarperCollins Publishers</td>\n",
       "      <td>384.0</td>\n",
       "      <td>1,873</td>\n",
       "      <td>Myths &amp; Legends</td>\n",
       "    </tr>\n",
       "    <tr>\n",
       "      <th>667</th>\n",
       "      <td>The Song of Achilles</td>\n",
       "      <td>Madeline Miller</td>\n",
       "      <td>14.99</td>\n",
       "      <td>HarperCollins Publishers</td>\n",
       "      <td>416.0</td>\n",
       "      <td>1,183</td>\n",
       "      <td>Myths &amp; Legends</td>\n",
       "    </tr>\n",
       "  </tbody>\n",
       "</table>\n",
       "<p>426 rows × 7 columns</p>\n",
       "</div>"
      ],
      "text/plain": [
       "                                       Book Name            Author  Price  \\\n",
       "0                    The Ferryman (B&N Exclusive…    Justin Cronin  23.99   \n",
       "1                       Here in the Dark: A Novel   Alexis Soloski  27.99   \n",
       "2                             The Paris Apartment       Lucy Foley  15.99   \n",
       "3                                       Countdown  James Patterson  20.30   \n",
       "4                                   Wait for Dark              NaN  17.99   \n",
       "..                                            ...              ...    ...   \n",
       "659                                       Galatea  Madeline Miller  12.00   \n",
       "661                The Shadow of Perseus: A Novel   Claire Heywood  23.99   \n",
       "663                                         Circe  Madeline Miller  15.99   \n",
       "665  The Song of Achilles (B&N Exclusive Edition)  Madeline Miller  21.99   \n",
       "667                          The Song of Achilles  Madeline Miller  14.99   \n",
       "\n",
       "                         Publisher  Number of Pages Sales Rank  \\\n",
       "0    Random House Publishing Group            560.0      3,025   \n",
       "1                   Flatiron Books            256.0        NaN   \n",
       "2         HarperCollins Publishers            384.0      4,787   \n",
       "3        Little, Brown and Company            464.0      2,836   \n",
       "4                 Dreamscape Media              NaN  1,075,069   \n",
       "..                             ...              ...        ...   \n",
       "659       HarperCollins Publishers             64.0      2,577   \n",
       "661       Penguin Publishing Group            304.0      2,401   \n",
       "663      Little, Brown and Company            416.0      1,878   \n",
       "665       HarperCollins Publishers            384.0      1,873   \n",
       "667       HarperCollins Publishers            416.0      1,183   \n",
       "\n",
       "               Genre  \n",
       "0           Thriller  \n",
       "1           Thriller  \n",
       "2           Thriller  \n",
       "3           Thriller  \n",
       "4           Thriller  \n",
       "..               ...  \n",
       "659  Myths & Legends  \n",
       "661  Myths & Legends  \n",
       "663  Myths & Legends  \n",
       "665  Myths & Legends  \n",
       "667  Myths & Legends  \n",
       "\n",
       "[426 rows x 7 columns]"
      ]
     },
     "execution_count": 51,
     "metadata": {},
     "output_type": "execute_result"
    }
   ],
   "source": [
    "df['Price']=df['Price'].str.lstrip(\"$\")\n",
    "df"
   ]
  },
  {
   "cell_type": "markdown",
   "id": "5a3e13b5",
   "metadata": {},
   "source": [
    "### Dealing with missing/NaN values"
   ]
  },
  {
   "cell_type": "code",
   "execution_count": 52,
   "id": "d2ab1c26",
   "metadata": {},
   "outputs": [
    {
     "data": {
      "text/plain": [
       "Book Name           0\n",
       "Author             18\n",
       "Price              29\n",
       "Publisher           0\n",
       "Number of Pages    51\n",
       "Sales Rank         44\n",
       "Genre               0\n",
       "dtype: int64"
      ]
     },
     "execution_count": 52,
     "metadata": {},
     "output_type": "execute_result"
    }
   ],
   "source": [
    "df.isnull().sum()"
   ]
  },
  {
   "cell_type": "markdown",
   "id": "ee844401",
   "metadata": {},
   "source": [
    "### The missing values in the \"Author\" column\n",
    "#### the author information is crucial to our analysis and we can't impute it accurately, so we choose to replace  the missing values in the \"Author\" column with a placeholder or indicator value rather than leaving it as NaN."
   ]
  },
  {
   "cell_type": "code",
   "execution_count": 53,
   "id": "c2b70bdb",
   "metadata": {},
   "outputs": [],
   "source": [
    "df['Author'].fillna(\"No Author Available\", inplace=True)"
   ]
  },
  {
   "cell_type": "markdown",
   "id": "ef60aeb7",
   "metadata": {},
   "source": [
    "### The missing values in \"Price\" column\n",
    "#### Filling missing values in the \"Price\" column based on the genre as the price of the book is crucial to our analysis and we can't drop the rows with no price\n",
    "##### in order to find the mean we must first convert the datatype of the \"Price\" column to float"
   ]
  },
  {
   "cell_type": "code",
   "execution_count": 54,
   "id": "e0f3b7e3",
   "metadata": {},
   "outputs": [],
   "source": [
    "df['Price'] = df['Price'].astype(float)"
   ]
  },
  {
   "cell_type": "code",
   "execution_count": 55,
   "id": "7063339b",
   "metadata": {},
   "outputs": [],
   "source": [
    "# Calculate the mean price for each genre\n",
    "genre_mean_price = df.groupby('Genre')['Price'].mean()\n",
    "\n",
    "# Fill missing prices based on the mean price of their respective genre\n",
    "df['Price'].fillna(df['Genre'].map(genre_mean_price), inplace=True)"
   ]
  },
  {
   "cell_type": "markdown",
   "id": "90576c0f",
   "metadata": {},
   "source": [
    "### The missing values in \"Number of pages\" column\n",
    "#### Filling the missing values in the \"Number of pages\" column based on the genre as the number of the pages in a book will most probably related to what genre of book it is"
   ]
  },
  {
   "cell_type": "code",
   "execution_count": 56,
   "id": "427c0d25",
   "metadata": {},
   "outputs": [],
   "source": [
    "# Calculate the mean number of pages for each genre\n",
    "genre_mean_pages = df.groupby('Genre')['Number of Pages'].mean()\n",
    "\n",
    "# Fill missing page numbers based on the mean page count of their respective genre\n",
    "df['Number of Pages'].fillna(df['Genre'].map(genre_mean_pages), inplace=True)"
   ]
  },
  {
   "cell_type": "markdown",
   "id": "be122bf6",
   "metadata": {},
   "source": [
    "### The missing values in \"Sales Rank\"\n",
    "####  filling the NaN spaces with a specific text or indicator like '0' is a better choice than dropping the rows as it may lead to loss of important data"
   ]
  },
  {
   "cell_type": "code",
   "execution_count": 57,
   "id": "f9936113",
   "metadata": {},
   "outputs": [],
   "source": [
    "df['Sales Rank'].fillna(\"0\", inplace=True)"
   ]
  },
  {
   "cell_type": "code",
   "execution_count": 58,
   "id": "c902266a",
   "metadata": {},
   "outputs": [],
   "source": [
    "df['Sales Rank'] = df['Sales Rank'].str.replace(',', '', regex=True).astype(int) "
   ]
  },
  {
   "cell_type": "markdown",
   "id": "ed7481ac",
   "metadata": {},
   "source": [
    "### Here we can see result after dealing with the missing values"
   ]
  },
  {
   "cell_type": "code",
   "execution_count": 59,
   "id": "ce30f2d0",
   "metadata": {},
   "outputs": [
    {
     "data": {
      "text/plain": [
       "Book Name          0\n",
       "Author             0\n",
       "Price              0\n",
       "Publisher          0\n",
       "Number of Pages    0\n",
       "Sales Rank         0\n",
       "Genre              0\n",
       "dtype: int64"
      ]
     },
     "execution_count": 59,
     "metadata": {},
     "output_type": "execute_result"
    }
   ],
   "source": [
    "df.isnull().sum()"
   ]
  },
  {
   "cell_type": "markdown",
   "id": "0835372f",
   "metadata": {},
   "source": [
    "### Changing the column name\n",
    "#### We are renaming the 'Price' column to 'Price (in $)' to provide clarity regarding the currency represented by the column's values."
   ]
  },
  {
   "cell_type": "code",
   "execution_count": 60,
   "id": "28d5020e",
   "metadata": {},
   "outputs": [],
   "source": [
    "df.rename(columns={'Price': 'Price (in $)'}, inplace=True)"
   ]
  },
  {
   "cell_type": "markdown",
   "id": "c40c5c2d",
   "metadata": {},
   "source": [
    "### Feature Scaling"
   ]
  },
  {
   "cell_type": "markdown",
   "id": "ae95938f",
   "metadata": {},
   "source": [
    "#### Feature scaling is a process used in data preprocessing to make sure that different features or variables in your dataset are on a similar scale or level."
   ]
  },
  {
   "cell_type": "code",
   "execution_count": 61,
   "id": "767f6a96",
   "metadata": {},
   "outputs": [],
   "source": [
    "from sklearn.preprocessing import StandardScaler"
   ]
  },
  {
   "cell_type": "code",
   "execution_count": 62,
   "id": "7e27b15f",
   "metadata": {},
   "outputs": [],
   "source": [
    "columns_to_scale = ['Price (in $)', 'Number of Pages', 'Sales Rank']\n",
    "scaler = StandardScaler()\n",
    "df[columns_to_scale] = scaler.fit_transform(df[columns_to_scale])"
   ]
  },
  {
   "cell_type": "markdown",
   "id": "01a2a2ae",
   "metadata": {},
   "source": [
    "## The Final Dataset"
   ]
  },
  {
   "cell_type": "code",
   "execution_count": 63,
   "id": "e1fcb862",
   "metadata": {},
   "outputs": [
    {
     "data": {
      "text/html": [
       "<div>\n",
       "<style scoped>\n",
       "    .dataframe tbody tr th:only-of-type {\n",
       "        vertical-align: middle;\n",
       "    }\n",
       "\n",
       "    .dataframe tbody tr th {\n",
       "        vertical-align: top;\n",
       "    }\n",
       "\n",
       "    .dataframe thead th {\n",
       "        text-align: right;\n",
       "    }\n",
       "</style>\n",
       "<table border=\"1\" class=\"dataframe\">\n",
       "  <thead>\n",
       "    <tr style=\"text-align: right;\">\n",
       "      <th></th>\n",
       "      <th>Book Name</th>\n",
       "      <th>Author</th>\n",
       "      <th>Price (in $)</th>\n",
       "      <th>Publisher</th>\n",
       "      <th>Number of Pages</th>\n",
       "      <th>Sales Rank</th>\n",
       "      <th>Genre</th>\n",
       "    </tr>\n",
       "  </thead>\n",
       "  <tbody>\n",
       "    <tr>\n",
       "      <th>0</th>\n",
       "      <td>The Ferryman (B&amp;N Exclusive…</td>\n",
       "      <td>Justin Cronin</td>\n",
       "      <td>0.641140</td>\n",
       "      <td>Random House Publishing Group</td>\n",
       "      <td>0.565573</td>\n",
       "      <td>-0.368185</td>\n",
       "      <td>Thriller</td>\n",
       "    </tr>\n",
       "    <tr>\n",
       "      <th>1</th>\n",
       "      <td>Here in the Dark: A Novel</td>\n",
       "      <td>Alexis Soloski</td>\n",
       "      <td>0.972774</td>\n",
       "      <td>Flatiron Books</td>\n",
       "      <td>-0.459625</td>\n",
       "      <td>-0.389981</td>\n",
       "      <td>Thriller</td>\n",
       "    </tr>\n",
       "    <tr>\n",
       "      <th>2</th>\n",
       "      <td>The Paris Apartment</td>\n",
       "      <td>Lucy Foley</td>\n",
       "      <td>-0.022128</td>\n",
       "      <td>HarperCollins Publishers</td>\n",
       "      <td>-0.027963</td>\n",
       "      <td>-0.355490</td>\n",
       "      <td>Thriller</td>\n",
       "    </tr>\n",
       "    <tr>\n",
       "      <th>3</th>\n",
       "      <td>Countdown</td>\n",
       "      <td>James Patterson</td>\n",
       "      <td>0.335208</td>\n",
       "      <td>Little, Brown and Company</td>\n",
       "      <td>0.241826</td>\n",
       "      <td>-0.369547</td>\n",
       "      <td>Thriller</td>\n",
       "    </tr>\n",
       "    <tr>\n",
       "      <th>4</th>\n",
       "      <td>Wait for Dark</td>\n",
       "      <td>No Author Available</td>\n",
       "      <td>0.143689</td>\n",
       "      <td>Dreamscape Media</td>\n",
       "      <td>-0.046511</td>\n",
       "      <td>7.356156</td>\n",
       "      <td>Thriller</td>\n",
       "    </tr>\n",
       "    <tr>\n",
       "      <th>...</th>\n",
       "      <td>...</td>\n",
       "      <td>...</td>\n",
       "      <td>...</td>\n",
       "      <td>...</td>\n",
       "      <td>...</td>\n",
       "      <td>...</td>\n",
       "      <td>...</td>\n",
       "    </tr>\n",
       "    <tr>\n",
       "      <th>659</th>\n",
       "      <td>Galatea</td>\n",
       "      <td>Madeline Miller</td>\n",
       "      <td>-0.352933</td>\n",
       "      <td>HarperCollins Publishers</td>\n",
       "      <td>-1.107119</td>\n",
       "      <td>-0.371413</td>\n",
       "      <td>Myths &amp; Legends</td>\n",
       "    </tr>\n",
       "    <tr>\n",
       "      <th>661</th>\n",
       "      <td>The Shadow of Perseus: A Novel</td>\n",
       "      <td>Claire Heywood</td>\n",
       "      <td>0.641140</td>\n",
       "      <td>Penguin Publishing Group</td>\n",
       "      <td>-0.297752</td>\n",
       "      <td>-0.372681</td>\n",
       "      <td>Myths &amp; Legends</td>\n",
       "    </tr>\n",
       "    <tr>\n",
       "      <th>663</th>\n",
       "      <td>Circe</td>\n",
       "      <td>Madeline Miller</td>\n",
       "      <td>-0.022128</td>\n",
       "      <td>Little, Brown and Company</td>\n",
       "      <td>0.079953</td>\n",
       "      <td>-0.376450</td>\n",
       "      <td>Myths &amp; Legends</td>\n",
       "    </tr>\n",
       "    <tr>\n",
       "      <th>665</th>\n",
       "      <td>The Song of Achilles (B&amp;N Exclusive Edition)</td>\n",
       "      <td>Madeline Miller</td>\n",
       "      <td>0.475323</td>\n",
       "      <td>HarperCollins Publishers</td>\n",
       "      <td>-0.027963</td>\n",
       "      <td>-0.376486</td>\n",
       "      <td>Myths &amp; Legends</td>\n",
       "    </tr>\n",
       "    <tr>\n",
       "      <th>667</th>\n",
       "      <td>The Song of Achilles</td>\n",
       "      <td>Madeline Miller</td>\n",
       "      <td>-0.105036</td>\n",
       "      <td>HarperCollins Publishers</td>\n",
       "      <td>0.079953</td>\n",
       "      <td>-0.381457</td>\n",
       "      <td>Myths &amp; Legends</td>\n",
       "    </tr>\n",
       "  </tbody>\n",
       "</table>\n",
       "<p>426 rows × 7 columns</p>\n",
       "</div>"
      ],
      "text/plain": [
       "                                       Book Name                Author  \\\n",
       "0                    The Ferryman (B&N Exclusive…        Justin Cronin   \n",
       "1                       Here in the Dark: A Novel       Alexis Soloski   \n",
       "2                             The Paris Apartment           Lucy Foley   \n",
       "3                                       Countdown      James Patterson   \n",
       "4                                   Wait for Dark  No Author Available   \n",
       "..                                            ...                  ...   \n",
       "659                                       Galatea      Madeline Miller   \n",
       "661                The Shadow of Perseus: A Novel       Claire Heywood   \n",
       "663                                         Circe      Madeline Miller   \n",
       "665  The Song of Achilles (B&N Exclusive Edition)      Madeline Miller   \n",
       "667                          The Song of Achilles      Madeline Miller   \n",
       "\n",
       "     Price (in $)                      Publisher  Number of Pages  Sales Rank  \\\n",
       "0        0.641140  Random House Publishing Group         0.565573   -0.368185   \n",
       "1        0.972774                 Flatiron Books        -0.459625   -0.389981   \n",
       "2       -0.022128       HarperCollins Publishers        -0.027963   -0.355490   \n",
       "3        0.335208      Little, Brown and Company         0.241826   -0.369547   \n",
       "4        0.143689               Dreamscape Media        -0.046511    7.356156   \n",
       "..            ...                            ...              ...         ...   \n",
       "659     -0.352933       HarperCollins Publishers        -1.107119   -0.371413   \n",
       "661      0.641140       Penguin Publishing Group        -0.297752   -0.372681   \n",
       "663     -0.022128      Little, Brown and Company         0.079953   -0.376450   \n",
       "665      0.475323       HarperCollins Publishers        -0.027963   -0.376486   \n",
       "667     -0.105036       HarperCollins Publishers         0.079953   -0.381457   \n",
       "\n",
       "               Genre  \n",
       "0           Thriller  \n",
       "1           Thriller  \n",
       "2           Thriller  \n",
       "3           Thriller  \n",
       "4           Thriller  \n",
       "..               ...  \n",
       "659  Myths & Legends  \n",
       "661  Myths & Legends  \n",
       "663  Myths & Legends  \n",
       "665  Myths & Legends  \n",
       "667  Myths & Legends  \n",
       "\n",
       "[426 rows x 7 columns]"
      ]
     },
     "execution_count": 63,
     "metadata": {},
     "output_type": "execute_result"
    }
   ],
   "source": [
    "df"
   ]
  },
  {
   "cell_type": "markdown",
   "id": "c15049e7",
   "metadata": {},
   "source": [
    "## Data Visualization\n",
    "### importing the necessary libraries"
   ]
  },
  {
   "cell_type": "code",
   "execution_count": 64,
   "id": "7ce4291e",
   "metadata": {},
   "outputs": [],
   "source": [
    "import matplotlib.pyplot as plt\n",
    "import seaborn as sns\n",
    "import pandas as pd"
   ]
  },
  {
   "cell_type": "markdown",
   "id": "4bea0841",
   "metadata": {},
   "source": [
    "### Histogram\n",
    "#### Histograms help you visualize the distribution of numeric columns."
   ]
  },
  {
   "cell_type": "code",
   "execution_count": 65,
   "id": "3bf600c4",
   "metadata": {},
   "outputs": [
    {
     "data": {
      "image/png": "[encoded data removed]",
      "text/plain": [
       "<Figure size 800x600 with 1 Axes>"
      ]
     },
     "metadata": {},
     "output_type": "display_data"
    }
   ],
   "source": [
    "plt.figure(figsize=(8, 6))\n",
    "sns.histplot(df['Price (in $)'], bins=30, kde=True)\n",
    "plt.xlabel('Price (in $)')\n",
    "plt.ylabel('Frequency')\n",
    "plt.title('Distribution of Prices')\n",
    "plt.show()"
   ]
  },
  {
   "cell_type": "markdown",
   "id": "4e2e54dc",
   "metadata": {},
   "source": [
    "### Categorical Data Analysis\n",
    "### For categorical variables, we are analyzing the frequency of each category and create bar charts or pie charts to visualize the distribution.¶\n",
    "#### Bar Chart\n",
    " "
   ]
  },
  {
   "cell_type": "code",
   "execution_count": 66,
   "id": "b8084e3e",
   "metadata": {},
   "outputs": [
    {
     "data": {
      "image/png": "[encoded data removed]",
      "text/plain": [
       "<Figure size 1000x600 with 1 Axes>"
      ]
     },
     "metadata": {},
     "output_type": "display_data"
    }
   ],
   "source": [
    "categorical_column = 'Genre'\n",
    "category_counts = df[categorical_column].value_counts()\n",
    "plt.figure(figsize=(10, 6))\n",
    "sns.barplot(x=category_counts.index, y=category_counts.values, palette='viridis')\n",
    "plt.xticks(rotation=90)\n",
    "plt.xlabel(categorical_column)\n",
    "plt.ylabel('Frequency')\n",
    "plt.title(f'Distribution of {categorical_column}')\n",
    "plt.show()"
   ]
  },
  {
   "cell_type": "markdown",
   "id": "f85ad686",
   "metadata": {},
   "source": [
    "#### Pie chart"
   ]
  },
  {
   "cell_type": "code",
   "execution_count": 67,
   "id": "7dbc4589",
   "metadata": {},
   "outputs": [
    {
     "data": {
      "image/png": "[encoded data removed]",
      "text/plain": [
       "<Figure size 800x800 with 1 Axes>"
      ]
     },
     "metadata": {},
     "output_type": "display_data"
    }
   ],
   "source": [
    "categorical_column = 'Genre'\n",
    "category_counts = df[categorical_column].value_counts()\n",
    "plt.figure(figsize=(8, 8))\n",
    "plt.pie(category_counts, labels=category_counts.index, autopct='%1.1f%%', startangle=140, colors=sns.color_palette('viridis', len(category_counts)))\n",
    "plt.axis('equal')  # Equal aspect ratio ensures that pie is drawn as a circle.\n",
    "plt.title(f'Distribution of {categorical_column}')\n",
    "plt.show()"
   ]
  },
  {
   "cell_type": "markdown",
   "id": "ea8c0ad8",
   "metadata": {},
   "source": [
    "### Box Plots (Numeric vs. Categorical):\n",
    "#### Box plots show the distribution of numeric data by category."
   ]
  },
  {
   "cell_type": "code",
   "execution_count": 68,
   "id": "dfeb101a",
   "metadata": {},
   "outputs": [
    {
     "data": {
      "image/png": "[encoded data removed]",
      "text/plain": [
       "<Figure size 1200x600 with 1 Axes>"
      ]
     },
     "metadata": {},
     "output_type": "display_data"
    }
   ],
   "source": [
    "plt.figure(figsize=(12, 6))\n",
    "sns.boxplot(data=df, x='Genre', y='Price (in $)')\n",
    "plt.xticks(rotation=90)\n",
    "plt.xlabel('Genre')\n",
    "plt.ylabel('Price (in $)')\n",
    "plt.title('Price Distribution by Genre')\n",
    "plt.show()"
   ]
  },
  {
   "cell_type": "markdown",
   "id": "5ecf745b",
   "metadata": {},
   "source": [
    "## Correlation analysis\n",
    "###  Exploring correlations between variables to identify which features might be related"
   ]
  },
  {
   "cell_type": "code",
   "execution_count": 69,
   "id": "b46065cc",
   "metadata": {},
   "outputs": [
    {
     "data": {
      "image/png": "[encoded data removed]",
      "text/plain": [
       "<Figure size 800x600 with 2 Axes>"
      ]
     },
     "metadata": {},
     "output_type": "display_data"
    }
   ],
   "source": [
    "numerical_columns = ['Price (in $)', 'Number of Pages', 'Sales Rank']\n",
    "\n",
    "correlation_matrix = df[numerical_columns].corr()\n",
    "\n",
    "plt.figure(figsize=(8, 6))\n",
    "sns.heatmap(correlation_matrix, annot=True, cmap='coolwarm', linewidths=0.5)\n",
    "plt.title('Correlation Heatmap')\n",
    "plt.show()"
   ]
  },
  {
   "cell_type": "markdown",
   "id": "17dcf86e",
   "metadata": {},
   "source": [
    "## Feature Relationships\n",
    "### Investigating how different features relate to one another. This helps us uncover interactions between variables that may be valuable for your recommendation system"
   ]
  },
  {
   "cell_type": "code",
   "execution_count": 70,
   "id": "bc157777",
   "metadata": {},
   "outputs": [
    {
     "data": {
      "image/png": "[encoded data removed]",
      "text/plain": [
       "<Figure size 750x750 with 12 Axes>"
      ]
     },
     "metadata": {},
     "output_type": "display_data"
    }
   ],
   "source": [
    "numerical_features = ['Price (in $)', 'Number of Pages', 'Sales Rank']\n",
    "sns.pairplot(df[numerical_features])\n",
    "plt.show()"
   ]
  },
  {
   "cell_type": "markdown",
   "id": "ef10471a",
   "metadata": {},
   "source": [
    "## Data Distributions\n",
    "## Examining the distribution of our target variable (if applicable) such as user ratings or preferences.\n",
    "### Kernel Density Plot:\n",
    "#### A kernel density plot provides a smooth estimate of the distribution."
   ]
  },
  {
   "cell_type": "code",
   "execution_count": 71,
   "id": "28ac5871",
   "metadata": {},
   "outputs": [
    {
     "data": {
      "image/png": "[encoded data removed]",
      "text/plain": [
       "<Figure size 640x480 with 1 Axes>"
      ]
     },
     "metadata": {},
     "output_type": "display_data"
    }
   ],
   "source": [
    "sns.kdeplot(df['Price (in $)'], fill=True, color='blue')\n",
    "plt.xlabel('Price (in $)')\n",
    "plt.ylabel('Density')\n",
    "plt.title('Kernel Density Plot of Price (in $)')\n",
    "plt.show()"
   ]
  },
  {
   "cell_type": "markdown",
   "id": "8b7157a6",
   "metadata": {},
   "source": [
    "## Machine Learning Models"
   ]
  },
  {
   "cell_type": "markdown",
   "id": "ef2deea3",
   "metadata": {},
   "source": [
    "### 1. Regression "
   ]
  },
  {
   "cell_type": "markdown",
   "id": "4975a659",
   "metadata": {},
   "source": [
    "### 1.1 Linear Regression"
   ]
  },
  {
   "cell_type": "code",
   "execution_count": 87,
   "id": "d3861dff",
   "metadata": {},
   "outputs": [
    {
     "name": "stdout",
     "output_type": "stream",
     "text": [
      "Mean Squared Error (MSE): 6.402289413529947e-32\n",
      "R-squared (R2) Score: 1.0\n",
      "Explained Variance: 1.0\n",
      "Accuracy Percentage: 100.00%\n"
     ]
    }
   ],
   "source": [
    "from sklearn.linear_model import LinearRegression\n",
    "from sklearn.model_selection import train_test_split\n",
    "from sklearn.metrics import mean_squared_error, r2_score\n",
    "import pandas as pd\n",
    "from sklearn.preprocessing import LabelEncoder\n",
    "\n",
    "# Assuming 'df' is your DataFrame containing the dataset\n",
    "\n",
    "# Encode the 'Genre' column using LabelEncoder\n",
    "label_encoder = LabelEncoder()\n",
    "df['Genre'] = label_encoder.fit_transform(df['Genre'])\n",
    "\n",
    "# Define the features and target variable\n",
    "X = df[['Price (in $)', 'Number of Pages', 'Genre']]\n",
    "y = df['Price (in $)']\n",
    "\n",
    "# Split your data into a training set and a testing set\n",
    "X_train, X_test, y_train, y_test = train_test_split(X, y, test_size=0.2, random_state=42)\n",
    "\n",
    "# Create a Linear Regression model\n",
    "model = LinearRegression()\n",
    "\n",
    "# Fit the model to the training data\n",
    "model.fit(X_train, y_train)\n",
    "\n",
    "# Make predictions on the test data\n",
    "y_pred = model.predict(X_test)\n",
    "\n",
    "# Calculate the Mean Squared Error (MSE)\n",
    "mse = mean_squared_error(y_test, y_pred)\n",
    "\n",
    "# Calculate the R-squared (R2) score\n",
    "r2 = r2_score(y_test, y_pred)\n",
    "\n",
    "print(f\"Mean Squared Error (MSE): {mse}\")\n",
    "print(f\"R-squared (R2) Score: {r2}\")\n",
    "\n",
    "explained_variance = 1 - (mse / np.var(y_test))\n",
    "print(f\"Explained Variance: {explained_variance}\")\n",
    "\n",
    "accuracy_percentage = explained_variance * 100\n",
    "print(f\"Accuracy Percentage: {accuracy_percentage:.2f}%\")"
   ]
  },
  {
   "cell_type": "markdown",
   "id": "02db0d6f",
   "metadata": {},
   "source": [
    "### 1.2 Ridge Regression"
   ]
  },
  {
   "cell_type": "code",
   "execution_count": 86,
   "id": "547ae770",
   "metadata": {},
   "outputs": [
    {
     "name": "stdout",
     "output_type": "stream",
     "text": [
      "Mean Squared Error (MSE): 0.000140977049459879\n",
      "R-squared (R2): 0.9999579518351016\n",
      "Explained Variance: 0.9999579518351016\n",
      "Accuracy Percentage: 100.00%\n"
     ]
    }
   ],
   "source": [
    "from sklearn.model_selection import train_test_split\n",
    "from sklearn.linear_model import Ridge\n",
    "from sklearn.metrics import mean_squared_error, r2_score\n",
    "\n",
    "\n",
    "# Split the dataset into a training set and a test set\n",
    "X_train, X_test, y_train, y_test = train_test_split(X, y, test_size=0.2, random_state=42)\n",
    "\n",
    "# Create a Ridge Regression model\n",
    "ridge_model = Ridge(alpha=1.0)  # You can adjust the alpha parameter for regularization\n",
    "\n",
    "# Fit the model on the training data\n",
    "ridge_model.fit(X_train, y_train)\n",
    "\n",
    "# Make predictions on the test data\n",
    "y_pred = ridge_model.predict(X_test)\n",
    "\n",
    "# Calculate Mean Squared Error (MSE)\n",
    "mse = mean_squared_error(y_test, y_pred)\n",
    "\n",
    "# Calculate R-squared (R2) for model evaluation\n",
    "r2 = r2_score(y_test, y_pred)\n",
    "\n",
    "print(f\"Mean Squared Error (MSE): {mse}\")\n",
    "print(f\"R-squared (R2): {r2}\")\n",
    "\n",
    "explained_variance = 1 - (mse / np.var(y_test))\n",
    "print(f\"Explained Variance: {explained_variance}\")\n",
    "\n",
    "accuracy_percentage = explained_variance * 100\n",
    "print(f\"Accuracy Percentage: {accuracy_percentage:.2f}%\")"
   ]
  },
  {
   "cell_type": "markdown",
   "id": "d65de5e3",
   "metadata": {},
   "source": [
    "### 1.3 Lasso Regression"
   ]
  },
  {
   "cell_type": "code",
   "execution_count": 88,
   "id": "543cb09a",
   "metadata": {},
   "outputs": [
    {
     "name": "stdout",
     "output_type": "stream",
     "text": [
      "Mean Squared Error (MSE): 3.4034824428841577\n",
      "R-squared (R2): -0.015131126205305323\n",
      "Explained Variance: -0.015131126205305545\n",
      "Accuracy Percentage: -1.51%\n"
     ]
    }
   ],
   "source": [
    "from sklearn.model_selection import train_test_split\n",
    "from sklearn.linear_model import Lasso\n",
    "from sklearn.metrics import mean_squared_error, r2_score\n",
    "\n",
    "# Split the dataset into a training set and a test set\n",
    "X_train, X_test, y_train, y_test = train_test_split(X, y, test_size=0.2, random_state=42)\n",
    "\n",
    "# Create a Lasso Regression model\n",
    "lasso_model = Lasso(alpha=1.0)  # You can adjust the alpha parameter for regularization\n",
    "\n",
    "# Fit the model on the training data\n",
    "lasso_model.fit(X_train, y_train)\n",
    "\n",
    "# Make predictions on the test data\n",
    "y_pred = lasso_model.predict(X_test)\n",
    "\n",
    "# Calculate Mean Squared Error (MSE)\n",
    "mse = mean_squared_error(y_test, y_pred)\n",
    "\n",
    "# Calculate R-squared (R2) for model evaluation\n",
    "r2 = r2_score(y_test, y_pred)\n",
    "\n",
    "print(f\"Mean Squared Error (MSE): {mse}\")\n",
    "print(f\"R-squared (R2): {r2}\")\n",
    "\n",
    "explained_variance = 1 - (mse / np.var(y_test))\n",
    "print(f\"Explained Variance: {explained_variance}\")\n",
    "\n",
    "accuracy_percentage = explained_variance * 100\n",
    "print(f\"Accuracy Percentage: {accuracy_percentage:.2f}%\")"
   ]
  },
  {
   "cell_type": "markdown",
   "id": "706872c1",
   "metadata": {},
   "source": [
    "### 1.4 Support Vector Regression"
   ]
  },
  {
   "cell_type": "code",
   "execution_count": 98,
   "id": "3428073b",
   "metadata": {},
   "outputs": [
    {
     "name": "stdout",
     "output_type": "stream",
     "text": [
      "Mean Squared Error (MSE): 0.5857531226131434\n",
      "R-squared (R2): 0.005406119070319515\n",
      "Root Mean Squared Error (RMSE): 0.7653451003391498\n",
      "Explained Variance: 0.005406119070319404\n",
      "Accuracy Percentage: 0.54%\n"
     ]
    }
   ],
   "source": [
    "import numpy as np\n",
    "from sklearn.model_selection import train_test_split\n",
    "from sklearn.svm import SVR\n",
    "from sklearn.metrics import mean_squared_error, r2_score\n",
    "\n",
    "# Split the dataset into features (X) and the target variable (y)\n",
    "X = df[['Price (in $)', 'Number of Pages']].values\n",
    "y = df['Sales Rank'].values\n",
    "\n",
    "# Split the dataset into a training set and a test set\n",
    "X_train, X_test, y_train, y_test = train_test_split(X, y, test_size=0.2, random_state=42)\n",
    "\n",
    "# Create an SVR model\n",
    "svr_model = SVR(kernel='rbf', C=1.0, epsilon=0.2)\n",
    "\n",
    "# Fit the model on the training data\n",
    "svr_model.fit(X_train, y_train)\n",
    "\n",
    "# Make predictions on the test data\n",
    "y_pred = svr_model.predict(X_test)\n",
    "\n",
    "# Calculate Mean Squared Error (MSE)\n",
    "mse = mean_squared_error(y_test, y_pred)\n",
    "\n",
    "# Calculate R-squared (R2) for model evaluation\n",
    "r2 = r2_score(y_test, y_pred)\n",
    "\n",
    "print(f\"Mean Squared Error (MSE): {mse}\")\n",
    "print(f\"R-squared (R2): {r2}\")\n",
    "\n",
    "# Calculate Root Mean Squared Error (RMSE)\n",
    "rmse = np.sqrt(mse)\n",
    "print(f\"Root Mean Squared Error (RMSE): {rmse}\")\n",
    "\n",
    "# Calculate Explained Variance\n",
    "explained_variance = 1 - (mse / np.var(y_test))\n",
    "print(f\"Explained Variance: {explained_variance}\")\n",
    "\n",
    "# Calculate Accuracy Percentage\n",
    "accuracy_percentage = explained_variance * 100\n",
    "print(f\"Accuracy Percentage: {accuracy_percentage:.2f}%\")"
   ]
  },
  {
   "cell_type": "markdown",
   "id": "fceb31d8",
   "metadata": {},
   "source": [
    "### 2. Classification"
   ]
  },
  {
   "cell_type": "markdown",
   "id": "fa58f271",
   "metadata": {},
   "source": [
    "### 2.1 Support Vector Machine"
   ]
  },
  {
   "cell_type": "code",
   "execution_count": 75,
   "id": "2366effc",
   "metadata": {},
   "outputs": [
    {
     "name": "stdout",
     "output_type": "stream",
     "text": [
      "Accuracy of the SVM model: 43.02%\n"
     ]
    }
   ],
   "source": [
    "from sklearn.svm import SVC\n",
    "from sklearn.model_selection import train_test_split\n",
    "from sklearn.metrics import accuracy_score\n",
    "\n",
    "# Define your features (X) and target (y)\n",
    "X = df[['Price (in $)', 'Number of Pages']]\n",
    "y = df['Genre']\n",
    "\n",
    "# Split the data into training and testing sets\n",
    "X_train, X_test, y_train, y_test = train_test_split(X, y, test_size=0.2, random_state=42)\n",
    "\n",
    "# Create and train the SVM model\n",
    "svm_model = SVC(kernel='linear')  # You can choose different kernels (e.g., 'linear', 'rbf', etc.)\n",
    "\n",
    "# Fit the model on the training data\n",
    "svm_model.fit(X_train, y_train)\n",
    "\n",
    "# Make predictions on the test data\n",
    "y_pred = svm_model.predict(X_test)\n",
    "\n",
    "# Calculate the accuracy of the model\n",
    "accuracy = accuracy_score(y_test, y_pred)\n",
    "print(f'Accuracy of the SVM model: {accuracy * 100:.2f}%')"
   ]
  },
  {
   "cell_type": "markdown",
   "id": "57619215",
   "metadata": {},
   "source": [
    "### 2.2 Decision Tree"
   ]
  },
  {
   "cell_type": "code",
   "execution_count": 76,
   "id": "358f4e32",
   "metadata": {},
   "outputs": [
    {
     "name": "stdout",
     "output_type": "stream",
     "text": [
      "Accuracy of the Decision Tree model: 48.84%\n"
     ]
    }
   ],
   "source": [
    "from sklearn.tree import DecisionTreeClassifier\n",
    "from sklearn.model_selection import train_test_split\n",
    "from sklearn.metrics import accuracy_score\n",
    "\n",
    "# Define your features (X) and target (y)\n",
    "X = df[['Price (in $)', 'Number of Pages']]\n",
    "y = df['Genre']\n",
    "\n",
    "# Split the data into training and testing sets\n",
    "X_train, X_test, y_train, y_test = train_test_split(X, y, test_size=0.2, random_state=42)\n",
    "\n",
    "# Create and train the Decision Tree model\n",
    "decision_tree_model = DecisionTreeClassifier(random_state=42)\n",
    "\n",
    "# Fit the model on the training data\n",
    "decision_tree_model.fit(X_train, y_train)\n",
    "\n",
    "# Make predictions on the test data\n",
    "y_pred = decision_tree_model.predict(X_test)\n",
    "\n",
    "# Calculate the accuracy of the model\n",
    "accuracy = accuracy_score(y_test, y_pred)\n",
    "print(f'Accuracy of the Decision Tree model: {accuracy * 100:.2f}%')"
   ]
  },
  {
   "cell_type": "markdown",
   "id": "c0b0d7a9",
   "metadata": {},
   "source": [
    "### 2.3 Random Forest"
   ]
  },
  {
   "cell_type": "code",
   "execution_count": 77,
   "id": "559699f9",
   "metadata": {},
   "outputs": [
    {
     "name": "stdout",
     "output_type": "stream",
     "text": [
      "Accuracy of the Random Forest model: 55.81%\n"
     ]
    }
   ],
   "source": [
    "from sklearn.ensemble import RandomForestClassifier\n",
    "from sklearn.model_selection import train_test_split\n",
    "from sklearn.metrics import accuracy_score\n",
    "\n",
    "# Define your features (X) and target (y)\n",
    "X = df[['Price (in $)', 'Number of Pages']]\n",
    "y = df['Genre']\n",
    "\n",
    "# Split the data into training and testing sets\n",
    "X_train, X_test, y_train, y_test = train_test_split(X, y, test_size=0.2, random_state=42)\n",
    "\n",
    "# Create and train the Random Forest model\n",
    "random_forest_model = RandomForestClassifier(n_estimators=100, random_state=42)\n",
    "\n",
    "# Fit the model on the training data\n",
    "random_forest_model.fit(X_train, y_train)\n",
    "\n",
    "# Make predictions on the test data\n",
    "y_pred = random_forest_model.predict(X_test)\n",
    "\n",
    "# Calculate the accuracy of the model\n",
    "accuracy = accuracy_score(y_test, y_pred)\n",
    "print(f'Accuracy of the Random Forest model: {accuracy * 100:.2f}%')"
   ]
  },
  {
   "cell_type": "code",
   "execution_count": null,
   "id": "64da2f88",
   "metadata": {},
   "outputs": [],
   "source": []
  }
 ],
 "metadata": {
  "kernelspec": {
   "display_name": "Python 3 (ipykernel)",
   "language": "python",
   "name": "python3"
  },
  "language_info": {
   "codemirror_mode": {
    "name": "ipython",
    "version": 3
   },
   "file_extension": ".py",
   "mimetype": "text/x-python",
   "name": "python",
   "nbconvert_exporter": "python",
   "pygments_lexer": "ipython3",
   "version": "3.11.3"
  }
 },
 "nbformat": 4,
 "nbformat_minor": 5
}
